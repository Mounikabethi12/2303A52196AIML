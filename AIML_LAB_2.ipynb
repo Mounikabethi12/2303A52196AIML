{
  "nbformat": 4,
  "nbformat_minor": 0,
  "metadata": {
    "colab": {
      "provenance": [],
      "authorship_tag": "ABX9TyNQ+161fAnT7RvNe1bDMqJn",
      "include_colab_link": true
    },
    "kernelspec": {
      "name": "python3",
      "display_name": "Python 3"
    },
    "language_info": {
      "name": "python"
    }
  },
  "cells": [
    {
      "cell_type": "markdown",
      "metadata": {
        "id": "view-in-github",
        "colab_type": "text"
      },
      "source": [
        "<a href=\"https://colab.research.google.com/github/Mounikabethi12/2303A52196AIML/blob/main/AIML_LAB_2.ipynb\" target=\"_parent\"><img src=\"https://colab.research.google.com/assets/colab-badge.svg\" alt=\"Open In Colab\"/></a>"
      ]
    },
    {
      "cell_type": "code",
      "execution_count": 1,
      "metadata": {
        "colab": {
          "base_uri": "https://localhost:8080/"
        },
        "id": "tRmdG53Bl77-",
        "outputId": "cc7e8650-7ea4-47f9-ce6b-097e973acc40"
      },
      "outputs": [
        {
          "output_type": "stream",
          "name": "stdout",
          "text": [
            "The adjacency List representing the graph is: \n",
            "{0: [1, 2, 3], 1: [0, 2], 2: [1, 3, 5], 3: [0, 2, 4], 4: [3, 5, 7], 5: [2, 4, 6, 7], 6: [5, 7], 7: []}\n",
            "BFS traversal of graph with source 1 is:\n",
            "1-->0-->2-->3-->5-->4-->6-->7-->"
          ]
        }
      ],
      "source": [
        "from queue import Queue\n",
        "\n",
        "\n",
        "graph = {0:[1,2,3],\n",
        "         1:[0,2],\n",
        "         2:[1,3,5],\n",
        "         3:[0,2,4],\n",
        "         4:[3,5,7],\n",
        "         5:[2,4,6,7],\n",
        "         6:[5,7],\n",
        "         7:[]}\n",
        "print(\"The adjacency List representing the graph is: \")\n",
        "print(graph)\n",
        "\n",
        "def bfs(graph, source):\n",
        "  Q = Queue()\n",
        "  visited_vertices = set()\n",
        "  Q.put(source)\n",
        "  visited_vertices.update({source})\n",
        "  while not Q.empty():\n",
        "    vertex = Q.get()\n",
        "    print(vertex, end=\"-->\")\n",
        "    for u in graph[vertex]:\n",
        "      if u not in visited_vertices:\n",
        "        Q.put(u)\n",
        "        visited_vertices.update({u})\n",
        "\n",
        "print(\"BFS traversal of graph with source 1 is:\")\n",
        "bfs(graph, 1)"
      ]
    },
    {
      "cell_type": "code",
      "source": [
        "graph = {'A':['G','D','B','C'],\n",
        "         'B':['A','C'],\n",
        "         'C':['D','A','B'],\n",
        "         'D':['C','A','G','H','E'],\n",
        "         'E':['F','H','D'],\n",
        "         'F':['E','C'],\n",
        "         'G':['A','D','H'],\n",
        "         'H':['G','E','D']}\n",
        "\n",
        "print(\"The adjanceny list representing the graph is: \")\n",
        "print(graph)\n",
        "def dfs(graph, source):\n",
        "  Q = Queue()\n",
        "  visited_vertices=set()\n",
        "  Q.put(source)\n",
        "  visited_vertices.update((source))\n",
        "  while not Q.empty():\n",
        "    vertex = Q.get()\n",
        "    print(vertex, end=\"-->\")\n",
        "    for u in graph[vertex]:\n",
        "         if u not in visited_vertices:\n",
        "              Q.put(u)\n",
        "              visited_vertices.update({u})\n",
        "print(\"DFS transversal of graph with source 1 is:\")"
      ],
      "metadata": {
        "colab": {
          "base_uri": "https://localhost:8080/"
        },
        "id": "XYqtUyDHmEkI",
        "outputId": "b14fccf5-42dd-43f8-fe63-15d825e8106d"
      },
      "execution_count": 2,
      "outputs": [
        {
          "output_type": "stream",
          "name": "stdout",
          "text": [
            "The adjanceny list representing the graph is: \n",
            "{'A': ['G', 'D', 'B', 'C'], 'B': ['A', 'C'], 'C': ['D', 'A', 'B'], 'D': ['C', 'A', 'G', 'H', 'E'], 'E': ['F', 'H', 'D'], 'F': ['E', 'C'], 'G': ['A', 'D', 'H'], 'H': ['G', 'E', 'D']}\n",
            "DFS transversal of graph with source 1 is:\n"
          ]
        }
      ]
    }
  ]
}